{
 "cells": [
  {
   "cell_type": "code",
   "execution_count": null,
   "metadata": {
    "collapsed": true,
    "deletable": true,
    "editable": true
   },
   "outputs": [],
   "source": [
    "import random\n",
    "import json\n",
    "import math\n",
    "from websocket_server import WebsocketServer\n",
    "import matplotlib.pyplot as plt\n",
    "%matplotlib inline"
   ]
  },
  {
   "cell_type": "code",
   "execution_count": null,
   "metadata": {
    "collapsed": false
   },
   "outputs": [],
   "source": [
    "class ModelState: \n",
    "    def __init__(self, x, y, theta):\n",
    "        self.x = x\n",
    "        self.y = y\n",
    "        self.theta = theta\n",
    "    \n",
    "    def __repr__(self):\n",
    "        return \"[x=%.3f, y=%.3f, theta=%.3f]\" % (self.x, self.y, self.theta)\n",
    "\n",
    "class CtrvMotionModel: \n",
    "    def __init__(self, stddev):\n",
    "        self.stddev = stddev\n",
    "        \n",
    "    def init(self, x, y, theta):\n",
    "        x, y, theta = self.gen_noise(x, y, theta)\n",
    "        return ModelState(x, y, theta)\n",
    "        \n",
    "    def predict(self, prev_state, delta_t, vel, yawrate):\n",
    "        theta = prev_state.theta + yawrate*delta_t\n",
    "        if math.fabs(yawrate) > 1e-4:\n",
    "            x = prev_state.x + vel/yawrate * (math.sin(theta) - math.sin(prev_state.theta))\n",
    "            y = prev_state.y + vel/yawrate * (-math.cos(theta) + math.cos(prev_state.theta))\n",
    "        else:\n",
    "            x = prev_state.x + vel * math.cos(prev_state.theta) * delta_t\n",
    "            y = prev_state.y + vel * math.sin(prev_state.theta) * delta_t\n",
    "            \n",
    "        x, y, theta = self.gen_noise(x, y, theta)\n",
    "        return ModelState(x, y, theta)\n",
    "    \n",
    "    def gen_noise(self, x, y, theta):\n",
    "        return [random.gauss(mean, std) for mean, std in zip([x, y, theta], self.stddev)]\n"
   ]
  },
  {
   "cell_type": "code",
   "execution_count": null,
   "metadata": {
    "collapsed": false
   },
   "outputs": [],
   "source": [
    "class Particle:\n",
    "    def __init__(self, iden, state):\n",
    "        self.iden = iden\n",
    "        self.state = state\n",
    "        self.weight = 0.0\n",
    "        self.associations = []\n",
    "        self.sense_x = []\n",
    "        self.sense_y = []\n",
    "        \n",
    "    def predict(self, delta_t, velocity, yawrate, sigma):\n",
    "        return self\n",
    "\n",
    "\n",
    "class ParticleFilter:\n",
    "    n_particles = 10\n",
    "    \n",
    "    def __init__(self, motion_model):\n",
    "        self.particles = []\n",
    "        self.motion_model = motion_model\n",
    "        self.is_initialized = False\n",
    "        \n",
    "        \n",
    "    def init(self, sense_x, sense_y, sense_theta):\n",
    "        for i in range(self.n_particles):\n",
    "            init_state = self.motion_model.init(sense_x, sense_y, sense_theta)\n",
    "            self.particles.append(Particle(i, init_state))\n",
    "            \n",
    "        self.is_initialized = True\n",
    "    \n",
    "    \n",
    "    def predict(self, delta_t, velocity, yawrate):\n",
    "        def _predict(particle):\n",
    "            new_state = motion_model.predict(particle.state, delta_t, velocity, yawrate)\n",
    "            return Particle(particle.iden, new_state)\n",
    "        \n",
    "        self.particles = [_predict(p) for p in self.particles]\n",
    "        \n",
    "        \n",
    "    def find_best(self):\n",
    "        best_weight = -1.0\n",
    "        best_part = None\n",
    "        \n",
    "        for p in self.particles:\n",
    "            if p.weight > best_weight:\n",
    "                best_weight = p.weight\n",
    "                best_part = p\n",
    "        \n",
    "        return p"
   ]
  },
  {
   "cell_type": "code",
   "execution_count": null,
   "metadata": {
    "collapsed": true,
    "deletable": true,
    "editable": true
   },
   "outputs": [],
   "source": [
    "class SimulatorResponder:\n",
    "    valid_prefix = '42'\n",
    "    sigma_pos = [0.3, 0.3, 0.01]\n",
    "    delta_t = 0.1\n",
    "    \n",
    "    def __init__(self, particle_filter):\n",
    "        self.pf = particle_filter\n",
    "    \n",
    "    def on_connect(self, client, server):\n",
    "        print(\"Client connected\")\n",
    "        \n",
    "    def is_valid_message(self, message):\n",
    "        return message.startswith(self.valid_prefix)\n",
    "    \n",
    "    def parse_data(self, message):\n",
    "        data_start = len(self.valid_prefix)\n",
    "        data = json.loads(message[data_start:])\n",
    "        if data[0] == 'telemetry':\n",
    "            return data[1]\n",
    "        else:\n",
    "            return None\n",
    "        \n",
    "    def best_particle(self):\n",
    "        best = self.pf.find_best()\n",
    "        return {\n",
    "          'best_particle_associations': '',\n",
    "          'best_particle_sense_x': '',\n",
    "          'best_particle_sense_y': '',\n",
    "          'best_particle_theta': best.state.theta,\n",
    "          'best_particle_x': best.state.x,\n",
    "          'best_particle_y': best.state.y\n",
    "        }\n",
    "        \n",
    "    def respond(self, client, event, data):\n",
    "        response = self.valid_prefix + json.dumps([event, data])\n",
    "        client['handler'].send_message(response)\n",
    "        \n",
    "    def on_message(self, client, server, message):\n",
    "        if not self.is_valid_message(message):\n",
    "            return\n",
    "        \n",
    "        data = self.parse_data(message)\n",
    "        if data is None: \n",
    "            self.respond(client, 'manual', {})\n",
    "            return\n",
    "        \n",
    "        if not self.pf.is_initialized:\n",
    "            sense_x = float(data['sense_x'])\n",
    "            sense_y = float(data['sense_y'])\n",
    "            sense_theta = float(data['sense_theta'])\n",
    "            self.pf.init(sense_x, sense_y, sense_theta)\n",
    "        else:\n",
    "            prev_velocity = float(data['previous_velocity'])\n",
    "            prev_yawrate = float(data['previous_yawrate'])\n",
    "            self.pf.predict(self.delta_t, prev_velocity, prev_yawrate)\n",
    "\n",
    "        self.respond(client, 'best_particle', self.best_particle())\n",
    "        \n",
    "    "
   ]
  },
  {
   "cell_type": "code",
   "execution_count": null,
   "metadata": {
    "collapsed": false,
    "deletable": true,
    "editable": true
   },
   "outputs": [],
   "source": [
    "motion_model = CtrvMotionModel([0.3, 0.3, 0.01])\n",
    "pf = ParticleFilter(motion_model)\n",
    "responder = SimulatorResponder(pf)    \n",
    "server = WebsocketServer(4567, host='127.0.0.1')\n",
    "server.set_fn_new_client(responder.on_connect)\n",
    "server.set_fn_message_received(responder.on_message)\n",
    "server.run_forever()"
   ]
  },
  {
   "cell_type": "code",
   "execution_count": null,
   "metadata": {
    "collapsed": true,
    "deletable": true,
    "editable": true
   },
   "outputs": [],
   "source": [
    "sample_data = '42[\"telemetry\",{\"sense_x\":\"15.7544\",\"sense_y\":\"5.0286\",\"sense_theta\":\"0.2996\",\"previous_velocity\":\"5.7666\",\"previous_yawrate\":\"-0.0145\",\"sense_observations_x\":\"-5.9299 -1.0073 22.1830 -3.1028 -14.4483 -29.1353 10.3003 -33.2641 -0.2889 44.5006 \",\"sense_observations_y\":\"4.3720 -9.4915 4.3068 -25.1741 -22.7379 3.9039 -38.8648 -31.5120 -46.1910 -16.4917 \"}]'"
   ]
  }
 ],
 "metadata": {
  "kernelspec": {
   "display_name": "Python 3",
   "language": "python",
   "name": "python3"
  },
  "language_info": {
   "codemirror_mode": {
    "name": "ipython",
    "version": 3
   },
   "file_extension": ".py",
   "mimetype": "text/x-python",
   "name": "python",
   "nbconvert_exporter": "python",
   "pygments_lexer": "ipython3",
   "version": "3.5.2"
  },
  "widgets": {
   "state": {},
   "version": "1.1.2"
  }
 },
 "nbformat": 4,
 "nbformat_minor": 2
}

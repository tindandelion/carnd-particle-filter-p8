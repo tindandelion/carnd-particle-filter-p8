{
 "cells": [
  {
   "cell_type": "code",
   "execution_count": 1,
   "metadata": {
    "collapsed": true,
    "deletable": true,
    "editable": true
   },
   "outputs": [],
   "source": [
    "import random\n",
    "import json\n",
    "from websocket_server import WebsocketServer"
   ]
  },
  {
   "cell_type": "code",
   "execution_count": 2,
   "metadata": {
    "collapsed": true
   },
   "outputs": [],
   "source": [
    "class Particle:\n",
    "    def __init__(self, iden, x, y, theta):\n",
    "        self.iden = iden\n",
    "        self.x = x\n",
    "        self.y = y\n",
    "        self.theta = theta\n",
    "        self.weight = 0.0\n",
    "        self.associations = []\n",
    "        self.sense_x = []\n",
    "        self.sense_y = []\n",
    "\n",
    "\n",
    "class ParticleFilter:\n",
    "    n_particles = 10\n",
    "    \n",
    "    def __init__(self):\n",
    "        self.particles = []\n",
    "        self.is_initialized = False\n",
    "        \n",
    "    def init(self, sense_x, sense_y, sense_theta, sigma_pos):\n",
    "        print(\"init\", sense_x, sense_y, sense_theta)\n",
    "        for i in range(self.n_particles):\n",
    "            x = random.gauss(sense_x, sigma_pos[0])\n",
    "            y = random.gauss(sense_y, sigma_pos[1])\n",
    "            theta = random.gauss(sense_theta, sigma_pos[1])\n",
    "            self.particles.append(Particle(i, x, y, theta))\n",
    "            \n",
    "        self.is_initialized = True\n",
    "        \n",
    "    def predict(self, delta_t, sigma_pos, previous_velocity, previous_yawrate):\n",
    "        print(\"predict\", delta_t, sigma_pos, previous_velocity, previous_yawrate)\n",
    "        \n",
    "    def find_best(self):\n",
    "        best_weight = -1.0\n",
    "        best_part = None\n",
    "        \n",
    "        for p in self.particles:\n",
    "            if p.weight > best_weight:\n",
    "                best_weight = p.weight\n",
    "                best_part = p\n",
    "        \n",
    "        return p"
   ]
  },
  {
   "cell_type": "code",
   "execution_count": null,
   "metadata": {
    "collapsed": true,
    "deletable": true,
    "editable": true
   },
   "outputs": [],
   "source": [
    "class SimulatorResponder:\n",
    "    valid_prefix = '42'\n",
    "    sigma_pos = [0.3, 0.3, 0.01]\n",
    "    delta_t = 0.1\n",
    "    \n",
    "    def __init__(self, particle_filter):\n",
    "        self.pf = particle_filter\n",
    "    \n",
    "    def on_connect(self, client, server):\n",
    "        print(\"Client connected\")\n",
    "        \n",
    "    def is_valid_message(self, message):\n",
    "        return message.startswith(self.valid_prefix)\n",
    "    \n",
    "    def parse_data(self, message):\n",
    "        data_start = len(self.valid_prefix)\n",
    "        data = json.loads(message[data_start:])\n",
    "        if data[0] == 'telemetry':\n",
    "            return data[1]\n",
    "        else:\n",
    "            return None\n",
    "        \n",
    "    def best_particle(self):\n",
    "        best = self.pf.find_best()\n",
    "        return {\n",
    "          'best_particle_associations': '',\n",
    "          'best_particle_sense_x': '',\n",
    "          'best_particle_sense_y': '',\n",
    "          'best_particle_theta': best.theta,\n",
    "          'best_particle_x': best.x,\n",
    "          'best_particle_y': best.y\n",
    "        }\n",
    "        \n",
    "    def respond(self, client, event, data):\n",
    "        response = self.valid_prefix + json.dumps([event, data])\n",
    "        client['handler'].send_message(response)\n",
    "        \n",
    "    def on_message(self, client, server, message):\n",
    "        if not self.is_valid_message(message):\n",
    "            return\n",
    "        \n",
    "        data = self.parse_data(message)\n",
    "        if data is None: \n",
    "            self.respond(client, 'manual', {})\n",
    "            return\n",
    "        \n",
    "        if not self.pf.is_initialized:\n",
    "            sense_x = float(data['sense_x'])\n",
    "            sense_y = float(data['sense_y'])\n",
    "            sense_theta = float(data['sense_theta'])\n",
    "            self.pf.init(sense_x, sense_y, sense_theta, self.sigma_pos)\n",
    "        else:\n",
    "            prev_velocity = float(data['previous_velocity'])\n",
    "            prev_yawrate = float(data['previous_yawrate'])\n",
    "            self.pf.predict(self.delta_t, self.sigma_pos, previous_velocity, previous_yawrate)\n",
    "\n",
    "        self.respond(client, 'best_particle', self.best_particle())\n",
    "        \n",
    "    "
   ]
  },
  {
   "cell_type": "code",
   "execution_count": null,
   "metadata": {
    "collapsed": false,
    "deletable": true,
    "editable": true
   },
   "outputs": [
    {
     "name": "stdout",
     "output_type": "stream",
     "text": [
      "Listening on port 4567 for clients..\n",
      "Client connected\n",
      "init 6.2672 2.0931 0.0116\n",
      "----------------------------------------\n",
      "Exception happened during processing of request from ('127.0.0.1', 63811)\n",
      "----------------------------------------\n",
      "Client connected\n"
     ]
    },
    {
     "name": "stderr",
     "output_type": "stream",
     "text": [
      "Traceback (most recent call last):\n",
      "  File \"/Users/serg_mo/miniconda3/envs/carnd-term1/lib/python3.5/socketserver.py\", line 625, in process_request_thread\n",
      "    self.finish_request(request, client_address)\n",
      "  File \"/Users/serg_mo/miniconda3/envs/carnd-term1/lib/python3.5/socketserver.py\", line 354, in finish_request\n",
      "    self.RequestHandlerClass(request, client_address, self)\n",
      "  File \"/Users/serg_mo/miniconda3/envs/carnd-term1/lib/python3.5/site-packages/websocket_server/websocket_server.py\", line 136, in __init__\n",
      "    StreamRequestHandler.__init__(self, socket, addr, server)\n",
      "  File \"/Users/serg_mo/miniconda3/envs/carnd-term1/lib/python3.5/socketserver.py\", line 681, in __init__\n",
      "    self.handle()\n",
      "  File \"/Users/serg_mo/miniconda3/envs/carnd-term1/lib/python3.5/site-packages/websocket_server/websocket_server.py\", line 149, in handle\n",
      "    self.read_next_message()\n",
      "  File \"/Users/serg_mo/miniconda3/envs/carnd-term1/lib/python3.5/site-packages/websocket_server/websocket_server.py\", line 191, in read_next_message\n",
      "    self.server._message_received_(self, decoded)\n",
      "  File \"/Users/serg_mo/miniconda3/envs/carnd-term1/lib/python3.5/site-packages/websocket_server/websocket_server.py\", line 100, in _message_received_\n",
      "    self.message_received(self.handler_to_client(handler), self, msg)\n",
      "  File \"<ipython-input-3-fae42ddb6b7d>\", line 55, in on_message\n",
      "    self.pf.predict(self.delta_t, self.sigma_pos, previous_velocity, previous_yawrate)\n",
      "NameError: name 'previous_velocity' is not defined\n"
     ]
    }
   ],
   "source": [
    "pf = ParticleFilter()\n",
    "responder = SimulatorResponder(pf)    \n",
    "server = WebsocketServer(4567, host='127.0.0.1')\n",
    "server.set_fn_new_client(responder.on_connect)\n",
    "server.set_fn_message_received(responder.on_message)\n",
    "server.run_forever()"
   ]
  },
  {
   "cell_type": "code",
   "execution_count": null,
   "metadata": {
    "collapsed": true,
    "deletable": true,
    "editable": true
   },
   "outputs": [],
   "source": [
    "sample_data = '42[\"telemetry\",{\"sense_x\":\"15.7544\",\"sense_y\":\"5.0286\",\"sense_theta\":\"0.2996\",\"previous_velocity\":\"5.7666\",\"previous_yawrate\":\"-0.0145\",\"sense_observations_x\":\"-5.9299 -1.0073 22.1830 -3.1028 -14.4483 -29.1353 10.3003 -33.2641 -0.2889 44.5006 \",\"sense_observations_y\":\"4.3720 -9.4915 4.3068 -25.1741 -22.7379 3.9039 -38.8648 -31.5120 -46.1910 -16.4917 \"}]'"
   ]
  }
 ],
 "metadata": {
  "kernelspec": {
   "display_name": "Python 3",
   "language": "python",
   "name": "python3"
  },
  "language_info": {
   "codemirror_mode": {
    "name": "ipython",
    "version": 3
   },
   "file_extension": ".py",
   "mimetype": "text/x-python",
   "name": "python",
   "nbconvert_exporter": "python",
   "pygments_lexer": "ipython3",
   "version": "3.5.2"
  },
  "widgets": {
   "state": {},
   "version": "1.1.2"
  }
 },
 "nbformat": 4,
 "nbformat_minor": 2
}
